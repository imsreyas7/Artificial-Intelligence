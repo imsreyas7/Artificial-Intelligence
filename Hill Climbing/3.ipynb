{
 "metadata": {
  "language_info": {
   "codemirror_mode": {
    "name": "ipython",
    "version": 3
   },
   "file_extension": ".py",
   "mimetype": "text/x-python",
   "name": "python",
   "nbconvert_exporter": "python",
   "pygments_lexer": "ipython3",
   "version": "3.7.7-final"
  },
  "orig_nbformat": 2,
  "kernelspec": {
   "name": "python_defaultSpec_1599552259962",
   "display_name": "Python 3.7.7 64-bit ('base': conda)"
  }
 },
 "nbformat": 4,
 "nbformat_minor": 2,
 "cells": [
  {
   "cell_type": "code",
   "execution_count": 7,
   "metadata": {},
   "outputs": [],
   "source": [
    "from copy import deepcopy\n",
    "from math import inf"
   ]
  },
  {
   "cell_type": "code",
   "execution_count": 35,
   "metadata": {},
   "outputs": [],
   "source": [
    "points = [(1, 1), (4, 9), (6, 4), (5, 2), (7, 7)]\n",
    "#points = [(7, 1), (9, 4), (4, 2), (2, 3), (1, 7)]\n"
   ]
  },
  {
   "cell_type": "code",
   "execution_count": 36,
   "metadata": {},
   "outputs": [],
   "source": [
    "def findNextStates(centre):\n",
    "\n",
    "    nextStates = []\n",
    "    if centre[0]>0:\n",
    "        nextStates.append((centre[0]-1, centre[1]))\n",
    "    if centre[1]>0:\n",
    "        nextStates.append((centre[0], centre[1]-1))\n",
    "    nextStates.append((centre[0]+1, centre[1]))\n",
    "    nextStates.append((centre[0], centre[1]+1))\n",
    "    return nextStates"
   ]
  },
  {
   "cell_type": "code",
   "execution_count": 37,
   "metadata": {},
   "outputs": [],
   "source": [
    "def calcManhattan(points, centre):\n",
    "    \n",
    "    cost = 0\n",
    "    for point in points:\n",
    "        cost += abs(centre[0]-point[0]) + abs(centre[1]-point[1])\n",
    "    return cost"
   ]
  },
  {
   "cell_type": "code",
   "execution_count": 38,
   "metadata": {},
   "outputs": [],
   "source": [
    "def findBestNextState(points, centre):\n",
    "\n",
    "    nextStates = findNextStates(centre)\n",
    "    bestNextState = tuple()\n",
    "    minCost = inf\n",
    "    for state in nextStates:\n",
    "        tempCost = calcManhattan(points, state)\n",
    "        if minCost > tempCost:\n",
    "            minCost = tempCost\n",
    "            bestNextState = state\n",
    "    \n",
    "    return bestNextState"
   ]
  },
  {
   "cell_type": "code",
   "execution_count": 39,
   "metadata": {},
   "outputs": [],
   "source": [
    "def HillClimbSearch(points, centre):\n",
    "\n",
    "    currCost = calcManhattan(points, centre)\n",
    "    bestNextState = findBestNextState(points, centre)\n",
    "    nextCost = calcManhattan(points, bestNextState)\n",
    "    if currCost <= nextCost:\n",
    "        return centre\n",
    "    else:\n",
    "        return HillClimbSearch(points, bestNextState)\n",
    "\n"
   ]
  },
  {
   "cell_type": "code",
   "execution_count": 40,
   "metadata": {
    "tags": []
   },
   "outputs": [
    {
     "output_type": "execute_result",
     "data": {
      "text/plain": "(5, 4)"
     },
     "metadata": {},
     "execution_count": 40
    }
   ],
   "source": [
    "HillClimbSearch(points, (0,0))"
   ]
  },
  {
   "cell_type": "code",
   "execution_count": null,
   "metadata": {},
   "outputs": [],
   "source": []
  }
 ]
}